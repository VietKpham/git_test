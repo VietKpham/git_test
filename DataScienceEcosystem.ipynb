{
 "cells": [
  {
   "cell_type": "markdown",
   "id": "6adc0b69-abb1-47bb-9c24-260de3965fdd",
   "metadata": {},
   "source": [
    "# Data Science Tools and Ecosystem using H1 style heading"
   ]
  },
  {
   "cell_type": "markdown",
   "id": "fbc503a4-04d2-403d-8847-dfcd05527124",
   "metadata": {},
   "source": [
    "## In this notebook, Data Science Tools and Ecosystem are summarized"
   ]
  },
  {
   "cell_type": "markdown",
   "id": "72a4663c-0e8b-4718-9cba-4e7286ed5601",
   "metadata": {},
   "source": [
    "Some of the popular languages that Data Scientists use are:\n",
    "Then create an ordered list (i.e. numbered) listing 3 (or more) commonly used languages for data science"
   ]
  },
  {
   "cell_type": "code",
   "execution_count": 4,
   "id": "2fc92980-283a-44d7-a2ba-8186a3d0e8c1",
   "metadata": {},
   "outputs": [
    {
     "name": "stdout",
     "output_type": "stream",
     "text": [
      "Total hours: 3.3333333333333335\n"
     ]
    }
   ],
   "source": [
    "# convert 200 minutes to hours by diving by 60\n",
    "x = 200 / 60\n",
    "print(f\"Total hours: {x}\")"
   ]
  },
  {
   "cell_type": "code",
   "execution_count": null,
   "id": "b426324c-68b4-4a71-8ea6-af11a1db1386",
   "metadata": {},
   "outputs": [],
   "source": []
  }
 ],
 "metadata": {
  "kernelspec": {
   "display_name": "Python 3 (ipykernel)",
   "language": "python",
   "name": "python3"
  },
  "language_info": {
   "codemirror_mode": {
    "name": "ipython",
    "version": 3
   },
   "file_extension": ".py",
   "mimetype": "text/x-python",
   "name": "python",
   "nbconvert_exporter": "python",
   "pygments_lexer": "ipython3",
   "version": "3.13.7"
  }
 },
 "nbformat": 4,
 "nbformat_minor": 5
}
